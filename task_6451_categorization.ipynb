{
 "cells": [
  {
   "cell_type": "code",
   "execution_count": 1,
   "metadata": {
    "collapsed": true
   },
   "outputs": [],
   "source": [
    "import pandas as pd"
   ]
  },
  {
   "cell_type": "code",
   "execution_count": 3,
   "outputs": [
    {
     "data": {
      "text/plain": "   check_id                                               name  \\\n0       233                 116 Общий анализ мочи Приоритетный   \n1       233                                                      \n2       233                       КАП Взятие капиллярной крови   \n3       231  Балаклава детская Lassie, цвет: синий. 7187126...   \n4       231  Водолазка для мальчика Acoola Cowslip, цвет: т...   \n\n         category   price  count    shop_name             datetime     sum  \n0        Здоровье   532.0    1.0      ГЕКОЛАБ  2017-07-31 08:53:00  1862.0  \n1   Не определена  1080.0    1.0      ГЕКОЛАБ  2017-07-31 08:53:00  1862.0  \n2        Здоровье   250.0    1.0      ГЕКОЛАБ  2017-07-31 08:53:00  1862.0  \n3  Одежда и обувь   839.0    1.0  Не известно  2017-08-01 16:51:00  5647.6  \n4  Одежда и обувь   599.0    1.0  Не известно  2017-08-01 16:51:00  5647.6  ",
      "text/html": "<div>\n<style scoped>\n    .dataframe tbody tr th:only-of-type {\n        vertical-align: middle;\n    }\n\n    .dataframe tbody tr th {\n        vertical-align: top;\n    }\n\n    .dataframe thead th {\n        text-align: right;\n    }\n</style>\n<table border=\"1\" class=\"dataframe\">\n  <thead>\n    <tr style=\"text-align: right;\">\n      <th></th>\n      <th>check_id</th>\n      <th>name</th>\n      <th>category</th>\n      <th>price</th>\n      <th>count</th>\n      <th>shop_name</th>\n      <th>datetime</th>\n      <th>sum</th>\n    </tr>\n  </thead>\n  <tbody>\n    <tr>\n      <th>0</th>\n      <td>233</td>\n      <td>116 Общий анализ мочи Приоритетный</td>\n      <td>Здоровье</td>\n      <td>532.0</td>\n      <td>1.0</td>\n      <td>ГЕКОЛАБ</td>\n      <td>2017-07-31 08:53:00</td>\n      <td>1862.0</td>\n    </tr>\n    <tr>\n      <th>1</th>\n      <td>233</td>\n      <td></td>\n      <td>Не определена</td>\n      <td>1080.0</td>\n      <td>1.0</td>\n      <td>ГЕКОЛАБ</td>\n      <td>2017-07-31 08:53:00</td>\n      <td>1862.0</td>\n    </tr>\n    <tr>\n      <th>2</th>\n      <td>233</td>\n      <td>КАП Взятие капиллярной крови</td>\n      <td>Здоровье</td>\n      <td>250.0</td>\n      <td>1.0</td>\n      <td>ГЕКОЛАБ</td>\n      <td>2017-07-31 08:53:00</td>\n      <td>1862.0</td>\n    </tr>\n    <tr>\n      <th>3</th>\n      <td>231</td>\n      <td>Балаклава детская Lassie, цвет: синий. 7187126...</td>\n      <td>Одежда и обувь</td>\n      <td>839.0</td>\n      <td>1.0</td>\n      <td>Не известно</td>\n      <td>2017-08-01 16:51:00</td>\n      <td>5647.6</td>\n    </tr>\n    <tr>\n      <th>4</th>\n      <td>231</td>\n      <td>Водолазка для мальчика Acoola Cowslip, цвет: т...</td>\n      <td>Одежда и обувь</td>\n      <td>599.0</td>\n      <td>1.0</td>\n      <td>Не известно</td>\n      <td>2017-08-01 16:51:00</td>\n      <td>5647.6</td>\n    </tr>\n  </tbody>\n</table>\n</div>"
     },
     "execution_count": 3,
     "metadata": {},
     "output_type": "execute_result"
    }
   ],
   "source": [
    "df = pd.read_csv('hmc_database/merged_ext_train.csv', index_col=0)\n",
    "df.head()"
   ],
   "metadata": {
    "collapsed": false,
    "pycharm": {
     "name": "#%%\n"
    }
   }
  }
 ],
 "metadata": {
  "kernelspec": {
   "name": "pycharm-1f959f18",
   "language": "python",
   "display_name": "PyCharm (hmc_krpo)"
  },
  "language_info": {
   "codemirror_mode": {
    "name": "ipython",
    "version": 2
   },
   "file_extension": ".py",
   "mimetype": "text/x-python",
   "name": "python",
   "nbconvert_exporter": "python",
   "pygments_lexer": "ipython2",
   "version": "2.7.6"
  }
 },
 "nbformat": 4,
 "nbformat_minor": 0
}